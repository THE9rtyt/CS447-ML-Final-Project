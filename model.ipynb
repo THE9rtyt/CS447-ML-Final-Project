{
 "cells": [
  {
   "cell_type": "code",
   "execution_count": 1,
   "id": "3b2d8cca",
   "metadata": {},
   "outputs": [
    {
     "name": "stdout",
     "output_type": "stream",
     "text": [
      "hello world\n"
     ]
    }
   ],
   "source": [
    "print(\"hello world\")"
   ]
  },
  {
   "cell_type": "code",
   "execution_count": null,
   "id": "5b263264",
   "metadata": {},
   "outputs": [],
   "source": [
    "# clean the data"
   ]
  },
  {
   "cell_type": "code",
   "execution_count": null,
   "id": "b99801be",
   "metadata": {},
   "outputs": [],
   "source": [
    "# do some modelling"
   ]
  },
  {
   "cell_type": "code",
   "execution_count": null,
   "id": "07fc8897",
   "metadata": {},
   "outputs": [],
   "source": [
    "# look up data"
   ]
  }
 ],
 "metadata": {
  "kernelspec": {
   "display_name": "Python 3",
   "language": "python",
   "name": "python3"
  },
  "language_info": {
   "codemirror_mode": {
    "name": "ipython",
    "version": 3
   },
   "file_extension": ".py",
   "mimetype": "text/x-python",
   "name": "python",
   "nbconvert_exporter": "python",
   "pygments_lexer": "ipython3",
   "version": "3.12.3"
  }
 },
 "nbformat": 4,
 "nbformat_minor": 5
}
