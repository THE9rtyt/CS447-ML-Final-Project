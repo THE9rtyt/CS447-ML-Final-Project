{
 "cells": [
  {
   "cell_type": "code",
   "execution_count": null,
   "id": "ea59d962",
   "metadata": {},
   "outputs": [],
   "source": [
    "import csv\n",
    "import numpy as np\n",
    "import matplotlib.pyplot as plt\n",
    "from sklearn.ensemble import RandomForestClassifier\n",
    "from sklearn.model_selection import train_test_split\n",
    "from sklearn.metrics import accuracy_score, classification_report, roc_curve, auc\n",
    "from sklearn.model_selection import cross_val_score\n",
    "from sklearn.preprocessing import label_binarize\n",
    "from sklearn.multiclass import OneVsRestClassifier"
   ]
  },
  {
   "cell_type": "code",
   "execution_count": null,
   "id": "e67e56ee",
   "metadata": {},
   "outputs": [],
   "source": [
    "# Clean the data\n",
    "with open(\"player_injuries_impact.csv\", \"r\", encoding=\"utf8\") as stat:\n",
    "    reader = csv.reader(stat)\n",
    "    headers = next(reader)  # Read the header row\n",
    "    playstats = list(range(9)) + [12, 41]  # Columns relevant to the model\n",
    "    data = []\n",
    "\n",
    "    for row in reader:\n",
    "        selected_values = [row[i] if i < len(row) else \"\" for i in playstats]\n",
    "        data.append(selected_values)"
   ]
  },
  {
   "cell_type": "code",
   "execution_count": null,
   "id": "bbc952ce",
   "metadata": {},
   "outputs": [],
   "source": [
    "# Convert data to a NumPy array\n",
    "data = np.array(data)"
   ]
  },
  {
   "cell_type": "code",
   "execution_count": null,
   "id": "8b837f5a",
   "metadata": {},
   "outputs": [],
   "source": [
    "# Feature selection\n",
    "X = data[:, :-1]  # All columns except the last one\n",
    "y = data[:, -1]   # Last column (target)"
   ]
  },
  {
   "cell_type": "code",
   "execution_count": null,
   "id": "f54691dc",
   "metadata": {},
   "outputs": [],
   "source": [
    "# Handle missing values\n",
    "X[X == \"\"] = -1\n",
    "y[y == \"\"] = -1"
   ]
  },
  {
   "cell_type": "code",
   "execution_count": null,
   "id": "e4a564ae",
   "metadata": {},
   "outputs": [],
   "source": [
    "# Convert strings to numeric\n",
    "def to_float_safe(value):\n",
    "    try:\n",
    "        return float(value)\n",
    "    except ValueError:\n",
    "        return -1  # Replace non-numeric values with -1\n",
    "\n",
    "X = np.vectorize(to_float_safe)(X)\n",
    "y = np.vectorize(to_float_safe)(y)"
   ]
  },
  {
   "cell_type": "code",
   "execution_count": null,
   "id": "abe85723",
   "metadata": {},
   "outputs": [],
   "source": [
    "# Target variable y represnets \"performance after injury\" based on player rating, match performance, etc..\n",
    "bins = [0, 3, 6, 10]\n",
    "labels = [0, 1, 2]  \n",
    "y = np.digitize(y, bins, right=True) - 1  # Assign class labels"
   ]
  },
  {
   "cell_type": "code",
   "execution_count": null,
   "id": "871af93a",
   "metadata": {},
   "outputs": [],
   "source": [
    "# Split the dataset into training and testing sets\n",
    "X_train, X_test, y_train, y_test = train_test_split(X, y, test_size=0.2, random_state=42)"
   ]
  },
  {
   "cell_type": "code",
   "execution_count": null,
   "id": "9d0e366d",
   "metadata": {},
   "outputs": [],
   "source": [
    "# Initialize the RandomForestClassifier\n",
    "rf_model = RandomForestClassifier(n_estimators=100, random_state=42)"
   ]
  },
  {
   "cell_type": "code",
   "execution_count": null,
   "id": "08c831af",
   "metadata": {},
   "outputs": [],
   "source": [
    "# Train the model\n",
    "rf_model.fit(X_train, y_train)"
   ]
  },
  {
   "cell_type": "code",
   "execution_count": null,
   "id": "f677e74d",
   "metadata": {},
   "outputs": [],
   "source": [
    "# Make predictions\n",
    "y_pred = rf_model.predict(X_test)"
   ]
  },
  {
   "cell_type": "code",
   "execution_count": null,
   "id": "27a08e31",
   "metadata": {},
   "outputs": [],
   "source": [
    "# Evaluate the model\n",
    "accuracy = accuracy_score(y_test, y_pred)\n",
    "report = classification_report(y_test, y_pred)\n",
    "\n",
    "print(f\"Accuracy: {accuracy}\")\n",
    "print(\"Classification Report:\")\n",
    "print(report)"
   ]
  },
  {
   "cell_type": "code",
   "execution_count": null,
   "id": "edaddab0",
   "metadata": {},
   "outputs": [],
   "source": [
    "#### Feature Importance ####\n",
    "feature_importances = rf_model.feature_importances_\n",
    "\n",
    "# Sorting features by importance\n",
    "sorted_indices = np.argsort(feature_importances)[::-1]\n",
    "top_features = sorted_indices[:5]  # Get the top 5 features"
   ]
  },
  {
   "cell_type": "code",
   "execution_count": null,
   "id": "f0623022",
   "metadata": {},
   "outputs": [],
   "source": [
    "# Displaying feature importance as a ranked list\n",
    "print(\"Top 5 Features by Importance:\")\n",
    "for rank, idx in enumerate(top_features, start=1):\n",
    "    print(f\"{rank}. Feature: {headers[idx]}, Importance: {feature_importances[idx]:.4f}\")"
   ]
  },
  {
   "cell_type": "code",
   "execution_count": null,
   "id": "a00775fe",
   "metadata": {},
   "outputs": [],
   "source": [
    "#### Cross-Validation ####\n",
    "cv_scores = cross_val_score(rf_model, X, y, cv=5)  # 5-fold cross-validation"
   ]
  },
  {
   "cell_type": "code",
   "execution_count": null,
   "id": "6767762d",
   "metadata": {},
   "outputs": [],
   "source": [
    "# Cross-Validation results\n",
    "print(f\"\\nCross-Validation Scores: {cv_scores}\")\n",
    "print(f\"Mean CV Accuracy: {np.mean(cv_scores)}\")"
   ]
  },
  {
   "cell_type": "code",
   "execution_count": null,
   "id": "aaa7f627",
   "metadata": {},
   "outputs": [],
   "source": [
    "#### ROC CURVE ####\n",
    "y_binarized = label_binarize(y, classes=[-1, 1, 2])\n",
    "\n",
    "X_train, X_test, y_train, y_test = train_test_split(X, y_binarized, test_size=0.2, random_state=42)"
   ]
  },
  {
   "cell_type": "code",
   "execution_count": null,
   "id": "f76be62e",
   "metadata": {},
   "outputs": [],
   "source": [
    "# Training the classifier (One-vs-Rest strategy for multi-class)\n",
    "clf = OneVsRestClassifier(RandomForestClassifier(n_estimators=100, random_state=42))\n",
    "clf.fit(X_train, y_train)"
   ]
  },
  {
   "cell_type": "code",
   "execution_count": null,
   "id": "98c08dc5",
   "metadata": {},
   "outputs": [],
   "source": [
    "# Predicted probabilities\n",
    "y_score = clf.predict_proba(X_test)"
   ]
  },
  {
   "cell_type": "code",
   "execution_count": null,
   "id": "67f5bf2c",
   "metadata": {},
   "outputs": [],
   "source": [
    "# Compute ROC curve and ROC area for each class\n",
    "fpr = dict()\n",
    "tpr = dict()\n",
    "roc_auc = dict()\n",
    "\n",
    "for i in range(y_binarized.shape[1]):\n",
    "    fpr[i], tpr[i], _ = roc_curve(y_test[:, i], y_score[:, i])\n",
    "    roc_auc[i] = auc(fpr[i], tpr[i])"
   ]
  },
  {
   "cell_type": "code",
   "execution_count": null,
   "id": "336f81b1",
   "metadata": {},
   "outputs": [],
   "source": [
    "# ROC curve for each class\n",
    "plt.figure(figsize=(10, 6))\n",
    "for i, color in zip(range(y_binarized.shape[1]), ['blue', 'red', 'green']):\n",
    "    plt.plot(fpr[i], tpr[i], color=color, lw=2,\n",
    "             label=f'Class {i} (AUC = {roc_auc[i]:.2f})')"
   ]
  },
  {
   "cell_type": "code",
   "execution_count": null,
   "id": "834d94ab",
   "metadata": {},
   "outputs": [],
   "source": [
    "# Plots for ROC curve\n",
    "plt.xlabel('False Positive Rate')\n",
    "plt.ylabel('True Positive Rate')\n",
    "plt.title('ROC Curve')\n",
    "plt.legend(loc='lower right')\n",
    "plt.grid(alpha=0.3)\n",
    "plt.show()"
   ]
  },
  {
   "cell_type": "code",
   "execution_count": null,
   "id": "6c7bdbb9",
   "metadata": {},
   "outputs": [],
   "source": [
    "print(\"AUROC for each class:\")\n",
    "for i in range(y_binarized.shape[1]):\n",
    "    print(f\"Class {i}: {roc_auc[i]:.4f}\")"
   ]
  }
 ],
 "metadata": {
  "kernelspec": {
   "display_name": "base",
   "language": "python",
   "name": "python3"
  },
  "language_info": {
   "codemirror_mode": {
    "name": "ipython",
    "version": 3
   },
   "file_extension": ".py",
   "mimetype": "text/x-python",
   "name": "python",
   "nbconvert_exporter": "python",
   "pygments_lexer": "ipython3",
   "version": "3.11.4"
  }
 },
 "nbformat": 4,
 "nbformat_minor": 5
}
